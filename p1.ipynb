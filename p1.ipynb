{
 "cells": [
  {
   "cell_type": "code",
<<<<<<< HEAD
   "execution_count": 54,
=======
   "execution_count": 55,
>>>>>>> refs/remotes/origin/main
   "id": "d8cd14aa-f54d-4103-98d3-1a9166d81bd7",
   "metadata": {
    "tags": []
   },
   "outputs": [],
   "source": [
    "#NETID : rgundavarapu,simran4\n",
    "#emails: rgundavarapu@wisc.edu , simran4@wisc.edu"
   ]
  },
  {
<<<<<<< HEAD
   "cell_type": "code",
   "execution_count": 55,
   "id": "b2ac0c7c-4d23-4394-bad5-4230424df895",
=======
   "cell_type": "markdown",
   "id": "56a1eaa2-2388-4aa0-b9bf-37757851ee95",
>>>>>>> refs/remotes/origin/main
   "metadata": {
    "tags": []
   },
   "source": [
    "## Part 1"
   ]
  },
  {
   "cell_type": "code",
<<<<<<< HEAD
   "execution_count": 90,
=======
   "execution_count": 56,
>>>>>>> refs/remotes/origin/main
   "id": "1cb500f9-fae9-4020-9e45-f63838f33f3d",
   "metadata": {
    "tags": []
   },
   "outputs": [],
   "source": [
    "import pandas as pd\n",
    "import torch\n",
    "import numpy as np\n",
    "import matplotlib.pyplot as plt"
   ]
  },
  {
   "cell_type": "code",
   "execution_count": 57,
   "id": "862a7523-3dfc-40d6-bab3-3c00a1dba3e9",
   "metadata": {
    "tags": []
   },
<<<<<<< HEAD
   "outputs": [],
=======
   "outputs": [
    {
     "data": {
      "text/html": [
       "<div>\n",
       "<style scoped>\n",
       "    .dataframe tbody tr th:only-of-type {\n",
       "        vertical-align: middle;\n",
       "    }\n",
       "\n",
       "    .dataframe tbody tr th {\n",
       "        vertical-align: top;\n",
       "    }\n",
       "\n",
       "    .dataframe thead th {\n",
       "        text-align: right;\n",
       "    }\n",
       "</style>\n",
       "<table border=\"1\" class=\"dataframe\">\n",
       "  <thead>\n",
       "    <tr style=\"text-align: right;\">\n",
       "      <th></th>\n",
       "      <th>POS_0_9_CP</th>\n",
       "      <th>POS_10_19_CP</th>\n",
       "      <th>POS_20_29_CP</th>\n",
       "      <th>POS_30_39_CP</th>\n",
       "      <th>POS_40_49_CP</th>\n",
       "      <th>POS_50_59_CP</th>\n",
       "      <th>POS_60_69_CP</th>\n",
       "      <th>POS_70_79_CP</th>\n",
       "      <th>POS_80_89_CP</th>\n",
       "      <th>POS_90_CP</th>\n",
       "      <th>DTH_CUM_CP</th>\n",
       "    </tr>\n",
       "  </thead>\n",
       "  <tbody>\n",
       "    <tr>\n",
       "      <th>0</th>\n",
       "      <td>24</td>\n",
       "      <td>51</td>\n",
       "      <td>44</td>\n",
       "      <td>51</td>\n",
       "      <td>60</td>\n",
       "      <td>75</td>\n",
       "      <td>72</td>\n",
       "      <td>61</td>\n",
       "      <td>27</td>\n",
       "      <td>0</td>\n",
       "      <td>3</td>\n",
       "    </tr>\n",
       "    <tr>\n",
       "      <th>1</th>\n",
       "      <td>22</td>\n",
       "      <td>31</td>\n",
       "      <td>214</td>\n",
       "      <td>177</td>\n",
       "      <td>62</td>\n",
       "      <td>46</td>\n",
       "      <td>24</td>\n",
       "      <td>9</td>\n",
       "      <td>0</td>\n",
       "      <td>0</td>\n",
       "      <td>2</td>\n",
       "    </tr>\n",
       "    <tr>\n",
       "      <th>2</th>\n",
       "      <td>84</td>\n",
       "      <td>126</td>\n",
       "      <td>239</td>\n",
       "      <td>194</td>\n",
       "      <td>159</td>\n",
       "      <td>171</td>\n",
       "      <td>125</td>\n",
       "      <td>74</td>\n",
       "      <td>24</td>\n",
       "      <td>8</td>\n",
       "      <td>9</td>\n",
       "    </tr>\n",
       "    <tr>\n",
       "      <th>3</th>\n",
       "      <td>65</td>\n",
       "      <td>76</td>\n",
       "      <td>80</td>\n",
       "      <td>110</td>\n",
       "      <td>82</td>\n",
       "      <td>81</td>\n",
       "      <td>55</td>\n",
       "      <td>49</td>\n",
       "      <td>56</td>\n",
       "      <td>34</td>\n",
       "      <td>7</td>\n",
       "    </tr>\n",
       "    <tr>\n",
       "      <th>4</th>\n",
       "      <td>99</td>\n",
       "      <td>107</td>\n",
       "      <td>339</td>\n",
       "      <td>287</td>\n",
       "      <td>139</td>\n",
       "      <td>147</td>\n",
       "      <td>110</td>\n",
       "      <td>71</td>\n",
       "      <td>37</td>\n",
       "      <td>0</td>\n",
       "      <td>12</td>\n",
       "    </tr>\n",
       "    <tr>\n",
       "      <th>...</th>\n",
       "      <td>...</td>\n",
       "      <td>...</td>\n",
       "      <td>...</td>\n",
       "      <td>...</td>\n",
       "      <td>...</td>\n",
       "      <td>...</td>\n",
       "      <td>...</td>\n",
       "      <td>...</td>\n",
       "      <td>...</td>\n",
       "      <td>...</td>\n",
       "      <td>...</td>\n",
       "    </tr>\n",
       "    <tr>\n",
       "      <th>1039</th>\n",
       "      <td>86</td>\n",
       "      <td>201</td>\n",
       "      <td>206</td>\n",
       "      <td>202</td>\n",
       "      <td>240</td>\n",
       "      <td>317</td>\n",
       "      <td>225</td>\n",
       "      <td>138</td>\n",
       "      <td>48</td>\n",
       "      <td>0</td>\n",
       "      <td>7</td>\n",
       "    </tr>\n",
       "    <tr>\n",
       "      <th>1040</th>\n",
       "      <td>80</td>\n",
       "      <td>102</td>\n",
       "      <td>125</td>\n",
       "      <td>124</td>\n",
       "      <td>104</td>\n",
       "      <td>71</td>\n",
       "      <td>70</td>\n",
       "      <td>36</td>\n",
       "      <td>6</td>\n",
       "      <td>0</td>\n",
       "      <td>6</td>\n",
       "    </tr>\n",
       "    <tr>\n",
       "      <th>1041</th>\n",
       "      <td>268</td>\n",
       "      <td>358</td>\n",
       "      <td>277</td>\n",
       "      <td>415</td>\n",
       "      <td>355</td>\n",
       "      <td>332</td>\n",
       "      <td>215</td>\n",
       "      <td>107</td>\n",
       "      <td>47</td>\n",
       "      <td>7</td>\n",
       "      <td>5</td>\n",
       "    </tr>\n",
       "    <tr>\n",
       "      <th>1042</th>\n",
       "      <td>81</td>\n",
       "      <td>116</td>\n",
       "      <td>90</td>\n",
       "      <td>145</td>\n",
       "      <td>118</td>\n",
       "      <td>113</td>\n",
       "      <td>70</td>\n",
       "      <td>36</td>\n",
       "      <td>9</td>\n",
       "      <td>0</td>\n",
       "      <td>2</td>\n",
       "    </tr>\n",
       "    <tr>\n",
       "      <th>1043</th>\n",
       "      <td>118</td>\n",
       "      <td>156</td>\n",
       "      <td>197</td>\n",
       "      <td>215</td>\n",
       "      <td>114</td>\n",
       "      <td>114</td>\n",
       "      <td>83</td>\n",
       "      <td>19</td>\n",
       "      <td>0</td>\n",
       "      <td>0</td>\n",
       "      <td>5</td>\n",
       "    </tr>\n",
       "  </tbody>\n",
       "</table>\n",
       "<p>1044 rows × 11 columns</p>\n",
       "</div>"
      ],
      "text/plain": [
       "      POS_0_9_CP  POS_10_19_CP  POS_20_29_CP  POS_30_39_CP  POS_40_49_CP  \\\n",
       "0             24            51            44            51            60   \n",
       "1             22            31           214           177            62   \n",
       "2             84           126           239           194           159   \n",
       "3             65            76            80           110            82   \n",
       "4             99           107           339           287           139   \n",
       "...          ...           ...           ...           ...           ...   \n",
       "1039          86           201           206           202           240   \n",
       "1040          80           102           125           124           104   \n",
       "1041         268           358           277           415           355   \n",
       "1042          81           116            90           145           118   \n",
       "1043         118           156           197           215           114   \n",
       "\n",
       "      POS_50_59_CP  POS_60_69_CP  POS_70_79_CP  POS_80_89_CP  POS_90_CP  \\\n",
       "0               75            72            61            27          0   \n",
       "1               46            24             9             0          0   \n",
       "2              171           125            74            24          8   \n",
       "3               81            55            49            56         34   \n",
       "4              147           110            71            37          0   \n",
       "...            ...           ...           ...           ...        ...   \n",
       "1039           317           225           138            48          0   \n",
       "1040            71            70            36             6          0   \n",
       "1041           332           215           107            47          7   \n",
       "1042           113            70            36             9          0   \n",
       "1043           114            83            19             0          0   \n",
       "\n",
       "      DTH_CUM_CP  \n",
       "0              3  \n",
       "1              2  \n",
       "2              9  \n",
       "3              7  \n",
       "4             12  \n",
       "...          ...  \n",
       "1039           7  \n",
       "1040           6  \n",
       "1041           5  \n",
       "1042           2  \n",
       "1043           5  \n",
       "\n",
       "[1044 rows x 11 columns]"
      ]
     },
     "execution_count": 57,
     "metadata": {},
     "output_type": "execute_result"
    }
   ],
>>>>>>> refs/remotes/origin/main
   "source": [
    "train_df = pd.read_csv(\"train.csv\")\n",
    "test_df = pd.read_csv(\"test.csv\")"
   ]
  },
  {
   "cell_type": "code",
   "execution_count": 58,
   "id": "a279a0b2-53a2-423c-8c45-4b33abab9fc7",
   "metadata": {
    "tags": []
   },
   "outputs": [],
   "source": [
    "if torch.cuda.is_available():\n",
    "    cuda0 = torch.device('cuda:0')\n",
    "    trainX = torch.from_numpy(train_df.values[:,:-1]).to(torch.float64)\n",
    "    trainY = torch.from_numpy(train_df.values[:,-1:]).to(torch.float64)\n",
    "\n",
    "    testX = torch.from_numpy(test_df.values[:,:-1]).to(torch.float64)\n",
    "    testY = torch.from_numpy(test_df.values[:,-1:]).to(torch.float64)\n",
    "    \n",
    "    trainX=trainX.to('cuda:0')\n",
    "    trainY=trainY.to('cuda:0')\n",
    "    testX=testX.to('cuda:0')\n",
    "    testY=testY.to('cuda:0')\n",
    "    coef = torch.tensor([\n",
    "        [0.0040],\n",
    "        [0.0040],\n",
    "        [0.0040],\n",
    "        [0.0040],\n",
    "        [0.0040],\n",
    "        [0.0040], # POS_50_59_CP\n",
    "        [0.0300], # POS_60_69_CP\n",
    "        [0.0300],\n",
    "        [0.0300],\n",
    "        [0.0300]], dtype=testX.dtype)\n",
    "    coef=coef.to('cuda:0')\n",
    "    num_deaths=(testX[:1,:]@coef).item()\n",
    "else:\n",
    "    trainX = torch.from_numpy(train_df.values[:,:-1]).to(torch.float64)\n",
    "    trainY = torch.from_numpy(train_df.values[:,-1:]).to(torch.float64)\n",
    "\n",
    "    testX = torch.from_numpy(test_df.values[:,:-1]).to(torch.float64)\n",
    "    testY = torch.from_numpy(test_df.values[:,-1:]).to(torch.float64)\n",
    "    coef = torch.tensor([\n",
    "        [0.0040],\n",
    "        [0.0040],\n",
    "        [0.0040],\n",
    "        [0.0040],\n",
    "        [0.0040],\n",
    "        [0.0040], # POS_50_59_CP\n",
    "        [0.0300], # POS_60_69_CP\n",
    "        [0.0300],\n",
    "        [0.0300],\n",
    "        [0.0300]], dtype=testX.dtype)\n",
    "    num_deaths=(testX[:1,:]@coef).item()\n"
   ]
  },
  {
   "cell_type": "code",
   "execution_count": 59,
   "id": "24948548-fbc5-4f18-a532-c51e95855a7a",
   "metadata": {
    "tags": []
   },
   "outputs": [
    {
     "data": {
      "text/plain": [
       "9.844"
      ]
     },
     "execution_count": 59,
     "metadata": {},
     "output_type": "execute_result"
    }
   ],
   "source": [
    "num_deaths"
   ]
  },
  {
<<<<<<< HEAD
   "cell_type": "code",
   "execution_count": 60,
   "id": "e38a36d7-fe84-4d89-802d-a70627da0b84",
=======
   "cell_type": "markdown",
   "id": "e5624fd2-e312-4121-ba14-aaad8c6ffef4",
>>>>>>> refs/remotes/origin/main
   "metadata": {
    "tags": []
   },
   "source": [
    "## Part 2"
   ]
  },
  {
   "cell_type": "code",
<<<<<<< HEAD
   "execution_count": 61,
=======
   "execution_count": 60,
>>>>>>> refs/remotes/origin/main
   "id": "1f9e1414-9a87-475a-bd9a-f02e3da5474f",
   "metadata": {
    "tags": []
   },
   "outputs": [],
   "source": [
    "predictedY = (testX[:,:]@coef)"
   ]
  },
  {
   "cell_type": "code",
<<<<<<< HEAD
   "execution_count": 62,
=======
   "execution_count": 61,
>>>>>>> refs/remotes/origin/main
   "id": "7ce50ff1-e3d3-4476-b9ce-90b6f01295c8",
   "metadata": {
    "tags": []
   },
   "outputs": [],
   "source": [
    "def r2_score(trueY, predictedY):\n",
    "    SStot = torch.sum((trueY-torch.mean(trueY))**2)\n",
    "    SSreg = torch.sum((trueY-predictedY)**2)\n",
    "    improvement = SStot - SSreg\n",
    "    R2_score = improvement/SStot\n",
    "    return R2_score"
   ]
  },
  {
   "cell_type": "code",
<<<<<<< HEAD
   "execution_count": 63,
=======
   "execution_count": 62,
>>>>>>> refs/remotes/origin/main
   "id": "2fc33df5-7c88-4098-88bf-31ec6318dc8b",
   "metadata": {
    "tags": []
   },
   "outputs": [
    {
     "name": "stdout",
     "output_type": "stream",
     "text": [
      "tensor(0.4110, dtype=torch.float64)\n"
     ]
    }
   ],
   "source": [
    "print(r2_score(testY, predictedY))"
   ]
  },
  {
<<<<<<< HEAD
   "cell_type": "code",
   "execution_count": 64,
   "id": "38f32ab6-e78c-40b9-9635-6480b7a8d18c",
=======
   "cell_type": "markdown",
   "id": "4518b740-50e2-4e08-bb26-1c588fdb593a",
>>>>>>> refs/remotes/origin/main
   "metadata": {
    "tags": []
   },
   "source": [
    "## Part 3"
   ]
  },
  {
   "cell_type": "code",
<<<<<<< HEAD
   "execution_count": 85,
   "id": "35b980f4-ac7e-47e0-abf0-8990bcacbee8",
   "metadata": {
    "tags": []
   },
   "outputs": [],
   "source": [
    "x = torch.tensor(0.0,requires_grad=True)\n",
    "y = x**2 - 8*x + 19\n",
    "optimizer = torch.optim.SGD([x], lr=0.1)"
   ]
  },
  {
   "cell_type": "code",
   "execution_count": 86,
=======
   "execution_count": 63,
>>>>>>> refs/remotes/origin/main
   "id": "615f5f1d-2f59-4c2f-a7bc-ed86bae5e5e2",
   "metadata": {
    "tags": []
   },
   "outputs": [
    {
     "name": "stdout",
     "output_type": "stream",
     "text": [
      "tensor(0.8000, requires_grad=True) tensor(19., grad_fn=<AddBackward0>)\n",
      "tensor(1.4400, requires_grad=True) tensor(13.2400, grad_fn=<AddBackward0>)\n",
      "tensor(1.9520, requires_grad=True) tensor(9.5536, grad_fn=<AddBackward0>)\n",
      "tensor(2.3616, requires_grad=True) tensor(7.1943, grad_fn=<AddBackward0>)\n",
      "tensor(2.6893, requires_grad=True) tensor(5.6844, grad_fn=<AddBackward0>)\n",
      "tensor(2.9514, requires_grad=True) tensor(4.7180, grad_fn=<AddBackward0>)\n",
      "tensor(3.1611, requires_grad=True) tensor(4.0995, grad_fn=<AddBackward0>)\n",
      "tensor(3.3289, requires_grad=True) tensor(3.7037, grad_fn=<AddBackward0>)\n",
      "tensor(3.4631, requires_grad=True) tensor(3.4504, grad_fn=<AddBackward0>)\n",
      "tensor(3.5705, requires_grad=True) tensor(3.2882, grad_fn=<AddBackward0>)\n",
      "tensor(3.6564, requires_grad=True) tensor(3.1845, grad_fn=<AddBackward0>)\n",
      "tensor(3.7251, requires_grad=True) tensor(3.1181, grad_fn=<AddBackward0>)\n",
      "tensor(3.7801, requires_grad=True) tensor(3.0756, grad_fn=<AddBackward0>)\n",
      "tensor(3.8241, requires_grad=True) tensor(3.0484, grad_fn=<AddBackward0>)\n",
      "tensor(3.8593, requires_grad=True) tensor(3.0309, grad_fn=<AddBackward0>)\n",
      "tensor(3.8874, requires_grad=True) tensor(3.0198, grad_fn=<AddBackward0>)\n",
      "tensor(3.9099, requires_grad=True) tensor(3.0127, grad_fn=<AddBackward0>)\n",
      "tensor(3.9279, requires_grad=True) tensor(3.0081, grad_fn=<AddBackward0>)\n",
      "tensor(3.9424, requires_grad=True) tensor(3.0052, grad_fn=<AddBackward0>)\n",
      "tensor(3.9539, requires_grad=True) tensor(3.0033, grad_fn=<AddBackward0>)\n",
      "tensor(3.9631, requires_grad=True) tensor(3.0021, grad_fn=<AddBackward0>)\n",
      "tensor(3.9705, requires_grad=True) tensor(3.0014, grad_fn=<AddBackward0>)\n",
      "tensor(3.9764, requires_grad=True) tensor(3.0009, grad_fn=<AddBackward0>)\n",
      "tensor(3.9811, requires_grad=True) tensor(3.0006, grad_fn=<AddBackward0>)\n",
      "tensor(3.9849, requires_grad=True) tensor(3.0004, grad_fn=<AddBackward0>)\n",
      "tensor(3.9879, requires_grad=True) tensor(3.0002, grad_fn=<AddBackward0>)\n",
      "tensor(3.9903, requires_grad=True) tensor(3.0001, grad_fn=<AddBackward0>)\n",
      "tensor(3.9923, requires_grad=True) tensor(3.0001, grad_fn=<AddBackward0>)\n",
      "tensor(3.9938, requires_grad=True) tensor(3.0001, grad_fn=<AddBackward0>)\n",
      "tensor(3.9950, requires_grad=True) tensor(3.0000, grad_fn=<AddBackward0>)\n"
     ]
    }
   ],
   "source": [
    "x = torch.tensor(0.0,requires_grad=True)\n",
    "def f(x):\n",
    "    return x**2 - 8*x + 19\n",
    "optimizer = torch.optim.SGD([x], lr=0.1)\n",
    "x_vals=[]\n",
    "y_vals=[]\n",
    "for i in range(30):\n",
    "    optimizer.zero_grad()\n",
    "    y = f(x)\n",
    "    y.backward()\n",
    "    optimizer.step()\n",
    "    print(x, y)\n",
    "    x_vals.append(x.item())\n",
    "    y_vals.append(y.item())"
   ]
  },
  {
   "cell_type": "code",
<<<<<<< HEAD
   "execution_count": 87,
=======
   "execution_count": 64,
>>>>>>> refs/remotes/origin/main
   "id": "e4ed92e1-0c1a-4252-b6f8-4c42cc7a70ed",
   "metadata": {
    "tags": []
   },
   "outputs": [
    {
     "data": {
      "text/plain": [
       "3.9950480461120605"
      ]
     },
<<<<<<< HEAD
     "execution_count": 87,
=======
     "execution_count": 64,
>>>>>>> refs/remotes/origin/main
     "metadata": {},
     "output_type": "execute_result"
    }
   ],
   "source": [
    "x.item()"
   ]
  },
  {
   "cell_type": "code",
<<<<<<< HEAD
   "execution_count": 88,
   "id": "d55e6999-c82a-4bc5-8a76-af781ef35c36",
   "metadata": {},
=======
   "execution_count": 66,
   "id": "17feb961-74c2-4bcb-8d59-2a8f7f177dc1",
   "metadata": {
    "tags": []
   },
>>>>>>> refs/remotes/origin/main
   "outputs": [
    {
     "data": {
      "text/plain": [
<<<<<<< HEAD
       "list"
      ]
     },
     "execution_count": 88,
     "metadata": {},
     "output_type": "execute_result"
    }
   ],
   "source": [
    "type(x_vals)"
   ]
  },
  {
   "cell_type": "code",
   "execution_count": 94,
   "id": "8225ef16-0f35-445c-b220-f64ad43cf0b7",
   "metadata": {},
   "outputs": [
    {
     "data": {
      "text/plain": [
       "<function matplotlib.pyplot.show(close=None, block=None)>"
      ]
     },
     "execution_count": 94,
=======
       "[<matplotlib.lines.Line2D at 0x7f0e8de38880>]"
      ]
     },
     "execution_count": 66,
>>>>>>> refs/remotes/origin/main
     "metadata": {},
     "output_type": "execute_result"
    },
    {
     "data": {
<<<<<<< HEAD
      "image/png": "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\n",
=======
      "image/png": "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\n",
>>>>>>> refs/remotes/origin/main
      "text/plain": [
       "<Figure size 640x480 with 1 Axes>"
      ]
     },
     "metadata": {},
     "output_type": "display_data"
    }
   ],
   "source": [
<<<<<<< HEAD
    "plt.plot(x_vals,y_vals)\n",
    "plt.xlabel(\"x\");\n",
    "plt.ylabel(\"y\");\n",
    "plt.show"
=======
    "plt.title('X vs Y')\n",
    "plt.xlabel('X')\n",
    "plt.ylabel('Y')\n",
    "plt.plot(x_vals,y_vals)"
   ]
  },
  {
   "cell_type": "markdown",
   "id": "a1ebe449-58d3-4a82-9c4f-ca8ee7ac5e3d",
   "metadata": {},
   "source": [
    "### Our graph confirms that X is at the minimum for 30 iterations"
>>>>>>> refs/remotes/origin/main
   ]
  },
  {
   "cell_type": "code",
   "execution_count": null,
<<<<<<< HEAD
   "id": "969b5c11-42be-47e8-93b2-68301ea0bfb4",
=======
   "id": "7a9b5f17-774e-41d4-a505-510a6894f5c5",
>>>>>>> refs/remotes/origin/main
   "metadata": {},
   "outputs": [],
   "source": []
  }
 ],
 "metadata": {
  "kernelspec": {
   "display_name": "Python 3 (ipykernel)",
   "language": "python",
   "name": "python3"
  },
  "language_info": {
   "codemirror_mode": {
    "name": "ipython",
    "version": 3
   },
   "file_extension": ".py",
   "mimetype": "text/x-python",
   "name": "python",
   "nbconvert_exporter": "python",
   "pygments_lexer": "ipython3",
   "version": "3.8.10"
  }
 },
 "nbformat": 4,
 "nbformat_minor": 5
}
