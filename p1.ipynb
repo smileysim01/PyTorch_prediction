{
 "cells": [
  {
   "cell_type": "code",
   "execution_count": 54,
   "id": "d8cd14aa-f54d-4103-98d3-1a9166d81bd7",
   "metadata": {
    "tags": []
   },
   "outputs": [],
   "source": [
    "#NETID : rgundavarapu,simran4\n",
    "#emails: rgundavarapu@wisc.edu , simran4@wisc.edu"
   ]
  },
  {
   "cell_type": "code",
   "execution_count": 55,
   "id": "b2ac0c7c-4d23-4394-bad5-4230424df895",
   "metadata": {
    "tags": []
   },
   "outputs": [],
   "source": [
    "#PART1"
   ]
  },
  {
   "cell_type": "code",
   "execution_count": 90,
   "id": "1cb500f9-fae9-4020-9e45-f63838f33f3d",
   "metadata": {
    "tags": []
   },
   "outputs": [],
   "source": [
    "import pandas as pd\n",
    "import torch\n",
    "import numpy as np\n",
    "import matplotlib.pyplot as plt"
   ]
  },
  {
   "cell_type": "code",
   "execution_count": 57,
   "id": "862a7523-3dfc-40d6-bab3-3c00a1dba3e9",
   "metadata": {
    "tags": []
   },
   "outputs": [],
   "source": [
    "train_df = pd.read_csv(\"train.csv\")\n",
    "test_df = pd.read_csv(\"test.csv\")"
   ]
  },
  {
   "cell_type": "code",
   "execution_count": 58,
   "id": "a279a0b2-53a2-423c-8c45-4b33abab9fc7",
   "metadata": {
    "tags": []
   },
   "outputs": [],
   "source": [
    "if torch.cuda.is_available():\n",
    "    cuda0 = torch.device('cuda:0')\n",
    "    trainX = torch.from_numpy(train_df.values[:,:-1]).to(torch.float64)\n",
    "    trainY = torch.from_numpy(train_df.values[:,-1:]).to(torch.float64)\n",
    "\n",
    "    testX = torch.from_numpy(test_df.values[:,:-1]).to(torch.float64)\n",
    "    testY = torch.from_numpy(test_df.values[:,-1:]).to(torch.float64)\n",
    "    \n",
    "    trainX=trainX.to('cuda:0')\n",
    "    trainY=trainY.to('cuda:0')\n",
    "    testX=testX.to('cuda:0')\n",
    "    testY=testY.to('cuda:0')\n",
    "    coef = torch.tensor([\n",
    "        [0.0040],\n",
    "        [0.0040],\n",
    "        [0.0040],\n",
    "        [0.0040],\n",
    "        [0.0040],\n",
    "        [0.0040], # POS_50_59_CP\n",
    "        [0.0300], # POS_60_69_CP\n",
    "        [0.0300],\n",
    "        [0.0300],\n",
    "        [0.0300]], dtype=testX.dtype)\n",
    "    coef=coef.to('cuda:0')\n",
    "    num_deaths=(testX[:1,:]@coef).item()\n",
    "else:\n",
    "    trainX = torch.from_numpy(train_df.values[:,:-1]).to(torch.float64)\n",
    "    trainY = torch.from_numpy(train_df.values[:,-1:]).to(torch.float64)\n",
    "\n",
    "    testX = torch.from_numpy(test_df.values[:,:-1]).to(torch.float64)\n",
    "    testY = torch.from_numpy(test_df.values[:,-1:]).to(torch.float64)\n",
    "    coef = torch.tensor([\n",
    "        [0.0040],\n",
    "        [0.0040],\n",
    "        [0.0040],\n",
    "        [0.0040],\n",
    "        [0.0040],\n",
    "        [0.0040], # POS_50_59_CP\n",
    "        [0.0300], # POS_60_69_CP\n",
    "        [0.0300],\n",
    "        [0.0300],\n",
    "        [0.0300]], dtype=testX.dtype)\n",
    "    num_deaths=(testX[:1,:]@coef).item()\n"
   ]
  },
  {
   "cell_type": "code",
   "execution_count": 59,
   "id": "24948548-fbc5-4f18-a532-c51e95855a7a",
   "metadata": {
    "tags": []
   },
   "outputs": [
    {
     "data": {
      "text/plain": [
       "9.844"
      ]
     },
     "execution_count": 59,
     "metadata": {},
     "output_type": "execute_result"
    }
   ],
   "source": [
    "num_deaths"
   ]
  },
  {
   "cell_type": "code",
   "execution_count": 60,
   "id": "e38a36d7-fe84-4d89-802d-a70627da0b84",
   "metadata": {
    "tags": []
   },
   "outputs": [],
   "source": [
    "#PART2"
   ]
  },
  {
   "cell_type": "code",
   "execution_count": 61,
   "id": "1f9e1414-9a87-475a-bd9a-f02e3da5474f",
   "metadata": {
    "tags": []
   },
   "outputs": [],
   "source": [
    "predictedY = (testX[:,:]@coef)"
   ]
  },
  {
   "cell_type": "code",
   "execution_count": 62,
   "id": "7ce50ff1-e3d3-4476-b9ce-90b6f01295c8",
   "metadata": {
    "tags": []
   },
   "outputs": [],
   "source": [
    "def r2_score(trueY, predictedY):\n",
    "    SStot = torch.sum((trueY-torch.mean(trueY))**2)\n",
    "    SSreg = torch.sum((trueY-predictedY)**2)\n",
    "    improvement = SStot - SSreg\n",
    "    R2_score = improvement/SStot\n",
    "    return R2_score"
   ]
  },
  {
   "cell_type": "code",
   "execution_count": 63,
   "id": "2fc33df5-7c88-4098-88bf-31ec6318dc8b",
   "metadata": {
    "tags": []
   },
   "outputs": [
    {
     "name": "stdout",
     "output_type": "stream",
     "text": [
      "tensor(0.4110, dtype=torch.float64)\n"
     ]
    }
   ],
   "source": [
    "print(r2_score(testY, predictedY))"
   ]
  },
  {
   "cell_type": "code",
   "execution_count": 64,
   "id": "38f32ab6-e78c-40b9-9635-6480b7a8d18c",
   "metadata": {
    "tags": []
   },
   "outputs": [],
   "source": [
    "#PART3"
   ]
  },
  {
   "cell_type": "code",
   "execution_count": 85,
   "id": "35b980f4-ac7e-47e0-abf0-8990bcacbee8",
   "metadata": {
    "tags": []
   },
   "outputs": [],
   "source": [
    "x = torch.tensor(0.0,requires_grad=True)\n",
    "y = x**2 - 8*x + 19\n",
    "optimizer = torch.optim.SGD([x], lr=0.1)"
   ]
  },
  {
   "cell_type": "code",
   "execution_count": 86,
   "id": "615f5f1d-2f59-4c2f-a7bc-ed86bae5e5e2",
   "metadata": {
    "tags": []
   },
   "outputs": [
    {
     "name": "stdout",
     "output_type": "stream",
     "text": [
      "tensor(0.8000, requires_grad=True) tensor(19., grad_fn=<AddBackward0>)\n",
      "tensor(1.4400, requires_grad=True) tensor(13.2400, grad_fn=<AddBackward0>)\n",
      "tensor(1.9520, requires_grad=True) tensor(9.5536, grad_fn=<AddBackward0>)\n",
      "tensor(2.3616, requires_grad=True) tensor(7.1943, grad_fn=<AddBackward0>)\n",
      "tensor(2.6893, requires_grad=True) tensor(5.6844, grad_fn=<AddBackward0>)\n",
      "tensor(2.9514, requires_grad=True) tensor(4.7180, grad_fn=<AddBackward0>)\n",
      "tensor(3.1611, requires_grad=True) tensor(4.0995, grad_fn=<AddBackward0>)\n",
      "tensor(3.3289, requires_grad=True) tensor(3.7037, grad_fn=<AddBackward0>)\n",
      "tensor(3.4631, requires_grad=True) tensor(3.4504, grad_fn=<AddBackward0>)\n",
      "tensor(3.5705, requires_grad=True) tensor(3.2882, grad_fn=<AddBackward0>)\n",
      "tensor(3.6564, requires_grad=True) tensor(3.1845, grad_fn=<AddBackward0>)\n",
      "tensor(3.7251, requires_grad=True) tensor(3.1181, grad_fn=<AddBackward0>)\n",
      "tensor(3.7801, requires_grad=True) tensor(3.0756, grad_fn=<AddBackward0>)\n",
      "tensor(3.8241, requires_grad=True) tensor(3.0484, grad_fn=<AddBackward0>)\n",
      "tensor(3.8593, requires_grad=True) tensor(3.0309, grad_fn=<AddBackward0>)\n",
      "tensor(3.8874, requires_grad=True) tensor(3.0198, grad_fn=<AddBackward0>)\n",
      "tensor(3.9099, requires_grad=True) tensor(3.0127, grad_fn=<AddBackward0>)\n",
      "tensor(3.9279, requires_grad=True) tensor(3.0081, grad_fn=<AddBackward0>)\n",
      "tensor(3.9424, requires_grad=True) tensor(3.0052, grad_fn=<AddBackward0>)\n",
      "tensor(3.9539, requires_grad=True) tensor(3.0033, grad_fn=<AddBackward0>)\n",
      "tensor(3.9631, requires_grad=True) tensor(3.0021, grad_fn=<AddBackward0>)\n",
      "tensor(3.9705, requires_grad=True) tensor(3.0014, grad_fn=<AddBackward0>)\n",
      "tensor(3.9764, requires_grad=True) tensor(3.0009, grad_fn=<AddBackward0>)\n",
      "tensor(3.9811, requires_grad=True) tensor(3.0006, grad_fn=<AddBackward0>)\n",
      "tensor(3.9849, requires_grad=True) tensor(3.0004, grad_fn=<AddBackward0>)\n",
      "tensor(3.9879, requires_grad=True) tensor(3.0002, grad_fn=<AddBackward0>)\n",
      "tensor(3.9903, requires_grad=True) tensor(3.0001, grad_fn=<AddBackward0>)\n",
      "tensor(3.9923, requires_grad=True) tensor(3.0001, grad_fn=<AddBackward0>)\n",
      "tensor(3.9938, requires_grad=True) tensor(3.0001, grad_fn=<AddBackward0>)\n",
      "tensor(3.9950, requires_grad=True) tensor(3.0000, grad_fn=<AddBackward0>)\n"
     ]
    }
   ],
   "source": [
    "x_vals=[]\n",
    "y_vals=[]\n",
    "for i in range(30):\n",
    "    optimizer.zero_grad()\n",
    "    y = x**2 - 8*x + 19\n",
    "    y.backward()\n",
    "    optimizer.step()\n",
    "    print(x, y)\n",
    "    x_vals.append(x.item())\n",
    "    y_vals.append(y.item())"
   ]
  },
  {
   "cell_type": "code",
   "execution_count": 87,
   "id": "e4ed92e1-0c1a-4252-b6f8-4c42cc7a70ed",
   "metadata": {
    "tags": []
   },
   "outputs": [
    {
     "data": {
      "text/plain": [
       "3.9950480461120605"
      ]
     },
     "execution_count": 87,
     "metadata": {},
     "output_type": "execute_result"
    }
   ],
   "source": [
    "x.item()"
   ]
  },
  {
   "cell_type": "code",
   "execution_count": 94,
   "id": "8225ef16-0f35-445c-b220-f64ad43cf0b7",
   "metadata": {},
   "outputs": [
    {
     "data": {
      "text/plain": [
       "<function matplotlib.pyplot.show(close=None, block=None)>"
      ]
     },
     "execution_count": 94,
     "metadata": {},
     "output_type": "execute_result"
    },
    {
     "data": {
      "image/png": "[encoded data removed]",
      "text/plain": [
       "<Figure size 640x480 with 1 Axes>"
      ]
     },
     "metadata": {},
     "output_type": "display_data"
    }
   ],
   "source": [
    "plt.plot(x_vals,y_vals)\n",
    "plt.xlabel(\"x\");\n",
    "plt.ylabel(\"y\");\n",
    "plt.show"
   ]
  },
  {
   "cell_type": "code",
   "execution_count": 96,
   "id": "969b5c11-42be-47e8-93b2-68301ea0bfb4",
   "metadata": {},
   "outputs": [],
   "source": [
    "#PART4"
   ]
  },
  {
   "cell_type": "code",
   "execution_count": null,
   "id": "31f9986b-ba01-46d3-86e8-1d7a4d806fe8",
   "metadata": {},
   "outputs": [],
   "source": []
  }
 ],
 "metadata": {
  "kernelspec": {
   "display_name": "Python 3 (ipykernel)",
   "language": "python",
   "name": "python3"
  },
  "language_info": {
   "codemirror_mode": {
    "name": "ipython",
    "version": 3
   },
   "file_extension": ".py",
   "mimetype": "text/x-python",
   "name": "python",
   "nbconvert_exporter": "python",
   "pygments_lexer": "ipython3",
   "version": "3.8.10"
  }
 },
 "nbformat": 4,
 "nbformat_minor": 5
}
