{
 "cells": [
  {
   "cell_type": "code",
   "execution_count": 58,
   "id": "b2ac0c7c-4d23-4394-bad5-4230424df895",
   "metadata": {},
   "outputs": [],
   "source": [
    "#PART1"
   ]
  },
  {
   "cell_type": "code",
   "execution_count": 59,
   "id": "1cb500f9-fae9-4020-9e45-f63838f33f3d",
   "metadata": {},
   "outputs": [],
   "source": [
    "import pandas as pd\n",
    "import torch\n",
    "import numpy as np"
   ]
  },
  {
   "cell_type": "code",
   "execution_count": 60,
   "id": "a279a0b2-53a2-423c-8c45-4b33abab9fc7",
   "metadata": {},
   "outputs": [
    {
     "data": {
      "text/plain": [
       "array([[ 24,  51,  44, ...,  27,   0,   3],\n",
       "       [ 22,  31, 214, ...,   0,   0,   2],\n",
       "       [ 84, 126, 239, ...,  24,   8,   9],\n",
       "       ...,\n",
       "       [268, 358, 277, ...,  47,   7,   5],\n",
       "       [ 81, 116,  90, ...,   9,   0,   2],\n",
       "       [118, 156, 197, ...,   0,   0,   5]])"
      ]
     },
     "execution_count": 60,
     "metadata": {},
     "output_type": "execute_result"
    }
   ],
   "source": [
    "train_df = pd.read_csv(\"train.csv\")\n",
    "test_df = pd.read_csv(\"test.csv\")\n",
    "train_df.values"
   ]
  },
  {
   "cell_type": "code",
   "execution_count": 63,
   "id": "87a04d92-f393-4444-826a-576c4ad42e45",
   "metadata": {},
   "outputs": [
    {
     "data": {
      "text/plain": [
       "tensor([[ 24.,  51.,  44.,  ...,  61.,  27.,   0.],\n",
       "        [ 22.,  31., 214.,  ...,   9.,   0.,   0.],\n",
       "        [ 84., 126., 239.,  ...,  74.,  24.,   8.],\n",
       "        ...,\n",
       "        [268., 358., 277.,  ..., 107.,  47.,   7.],\n",
       "        [ 81., 116.,  90.,  ...,  36.,   9.,   0.],\n",
       "        [118., 156., 197.,  ...,  19.,   0.,   0.]], dtype=torch.float64)"
      ]
     },
     "execution_count": 63,
     "metadata": {},
     "output_type": "execute_result"
    }
   ],
   "source": [
    "trainX = torch.from_numpy(train_df.values[:,:-1]).to(torch.float64)\n",
    "trainY = torch.from_numpy(train_df.values[:,-1:]).to(torch.float64)\n",
    "\n",
    "testX = torch.from_numpy(test_df.values[:,:-1]).to(torch.float64)\n",
    "testY = torch.from_numpy(test_df.values[:,-1:]).to(torch.float64)\n",
    "trainX"
   ]
  },
  {
   "cell_type": "code",
   "execution_count": 64,
   "id": "5007af9c-3142-455c-b060-81137cad0bb1",
   "metadata": {},
   "outputs": [
    {
     "data": {
      "text/plain": [
       "tensor([[3.],\n",
       "        [2.],\n",
       "        [9.],\n",
       "        ...,\n",
       "        [5.],\n",
       "        [2.],\n",
       "        [5.]], dtype=torch.float64)"
      ]
     },
     "execution_count": 64,
     "metadata": {},
     "output_type": "execute_result"
    }
   ],
   "source": [
    "trainY"
   ]
  },
  {
   "cell_type": "code",
   "execution_count": 65,
   "id": "b53e715c-ae93-4e2c-b72d-bcab0e1ba2da",
   "metadata": {},
   "outputs": [
    {
     "data": {
      "text/plain": [
       "tensor([[0.0040],\n",
       "        [0.0040],\n",
       "        [0.0040],\n",
       "        [0.0040],\n",
       "        [0.0040],\n",
       "        [0.0040],\n",
       "        [0.0300],\n",
       "        [0.0300],\n",
       "        [0.0300],\n",
       "        [0.0300]], dtype=torch.float64)"
      ]
     },
     "execution_count": 65,
     "metadata": {},
     "output_type": "execute_result"
    }
   ],
   "source": [
    "coef = torch.tensor([\n",
    "        [0.0040],\n",
    "        [0.0040],\n",
    "        [0.0040],\n",
    "        [0.0040],\n",
    "        [0.0040],\n",
    "        [0.0040], # POS_50_59_CP\n",
    "        [0.0300], # POS_60_69_CP\n",
    "        [0.0300],\n",
    "        [0.0300],\n",
    "        [0.0300]\n",
    "], dtype=testX.dtype)\n",
    "coef"
   ]
  },
  {
   "cell_type": "code",
   "execution_count": null,
   "id": "66e69909-7edd-40cc-ba39-525e93b739f5",
   "metadata": {},
   "outputs": [],
   "source": []
  }
 ],
 "metadata": {
  "kernelspec": {
   "display_name": "Python 3 (ipykernel)",
   "language": "python",
   "name": "python3"
  },
  "language_info": {
   "codemirror_mode": {
    "name": "ipython",
    "version": 3
   },
   "file_extension": ".py",
   "mimetype": "text/x-python",
   "name": "python",
   "nbconvert_exporter": "python",
   "pygments_lexer": "ipython3",
   "version": "3.8.10"
  }
 },
 "nbformat": 4,
 "nbformat_minor": 5
}
