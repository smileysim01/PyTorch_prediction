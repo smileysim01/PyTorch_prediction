{
 "cells": [
  {
   "cell_type": "code",
   "execution_count": null,
   "id": "d8cd14aa-f54d-4103-98d3-1a9166d81bd7",
   "metadata": {},
   "outputs": [],
   "source": [
    "#NETID : rgundavarapu,simran4"
   ]
  },
  {
   "cell_type": "code",
   "execution_count": 124,
   "id": "b2ac0c7c-4d23-4394-bad5-4230424df895",
   "metadata": {},
   "outputs": [],
   "source": [
    "#PART1"
   ]
  },
  {
   "cell_type": "code",
   "execution_count": 11,
   "id": "1cb500f9-fae9-4020-9e45-f63838f33f3d",
   "metadata": {
    "tags": []
   },
   "outputs": [],
   "source": [
    "import pandas as pd\n",
    "import torch\n",
    "import numpy as np"
   ]
  },
  {
   "cell_type": "code",
   "execution_count": 12,
   "id": "862a7523-3dfc-40d6-bab3-3c00a1dba3e9",
   "metadata": {
    "tags": []
   },
   "outputs": [
    {
     "data": {
      "text/html": [
       "<div>\n",
       "<style scoped>\n",
       "    .dataframe tbody tr th:only-of-type {\n",
       "        vertical-align: middle;\n",
       "    }\n",
       "\n",
       "    .dataframe tbody tr th {\n",
       "        vertical-align: top;\n",
       "    }\n",
       "\n",
       "    .dataframe thead th {\n",
       "        text-align: right;\n",
       "    }\n",
       "</style>\n",
       "<table border=\"1\" class=\"dataframe\">\n",
       "  <thead>\n",
       "    <tr style=\"text-align: right;\">\n",
       "      <th></th>\n",
       "      <th>POS_0_9_CP</th>\n",
       "      <th>POS_10_19_CP</th>\n",
       "      <th>POS_20_29_CP</th>\n",
       "      <th>POS_30_39_CP</th>\n",
       "      <th>POS_40_49_CP</th>\n",
       "      <th>POS_50_59_CP</th>\n",
       "      <th>POS_60_69_CP</th>\n",
       "      <th>POS_70_79_CP</th>\n",
       "      <th>POS_80_89_CP</th>\n",
       "      <th>POS_90_CP</th>\n",
       "      <th>DTH_CUM_CP</th>\n",
       "    </tr>\n",
       "  </thead>\n",
       "  <tbody>\n",
       "    <tr>\n",
       "      <th>0</th>\n",
       "      <td>24</td>\n",
       "      <td>51</td>\n",
       "      <td>44</td>\n",
       "      <td>51</td>\n",
       "      <td>60</td>\n",
       "      <td>75</td>\n",
       "      <td>72</td>\n",
       "      <td>61</td>\n",
       "      <td>27</td>\n",
       "      <td>0</td>\n",
       "      <td>3</td>\n",
       "    </tr>\n",
       "    <tr>\n",
       "      <th>1</th>\n",
       "      <td>22</td>\n",
       "      <td>31</td>\n",
       "      <td>214</td>\n",
       "      <td>177</td>\n",
       "      <td>62</td>\n",
       "      <td>46</td>\n",
       "      <td>24</td>\n",
       "      <td>9</td>\n",
       "      <td>0</td>\n",
       "      <td>0</td>\n",
       "      <td>2</td>\n",
       "    </tr>\n",
       "    <tr>\n",
       "      <th>2</th>\n",
       "      <td>84</td>\n",
       "      <td>126</td>\n",
       "      <td>239</td>\n",
       "      <td>194</td>\n",
       "      <td>159</td>\n",
       "      <td>171</td>\n",
       "      <td>125</td>\n",
       "      <td>74</td>\n",
       "      <td>24</td>\n",
       "      <td>8</td>\n",
       "      <td>9</td>\n",
       "    </tr>\n",
       "    <tr>\n",
       "      <th>3</th>\n",
       "      <td>65</td>\n",
       "      <td>76</td>\n",
       "      <td>80</td>\n",
       "      <td>110</td>\n",
       "      <td>82</td>\n",
       "      <td>81</td>\n",
       "      <td>55</td>\n",
       "      <td>49</td>\n",
       "      <td>56</td>\n",
       "      <td>34</td>\n",
       "      <td>7</td>\n",
       "    </tr>\n",
       "    <tr>\n",
       "      <th>4</th>\n",
       "      <td>99</td>\n",
       "      <td>107</td>\n",
       "      <td>339</td>\n",
       "      <td>287</td>\n",
       "      <td>139</td>\n",
       "      <td>147</td>\n",
       "      <td>110</td>\n",
       "      <td>71</td>\n",
       "      <td>37</td>\n",
       "      <td>0</td>\n",
       "      <td>12</td>\n",
       "    </tr>\n",
       "    <tr>\n",
       "      <th>...</th>\n",
       "      <td>...</td>\n",
       "      <td>...</td>\n",
       "      <td>...</td>\n",
       "      <td>...</td>\n",
       "      <td>...</td>\n",
       "      <td>...</td>\n",
       "      <td>...</td>\n",
       "      <td>...</td>\n",
       "      <td>...</td>\n",
       "      <td>...</td>\n",
       "      <td>...</td>\n",
       "    </tr>\n",
       "    <tr>\n",
       "      <th>1039</th>\n",
       "      <td>86</td>\n",
       "      <td>201</td>\n",
       "      <td>206</td>\n",
       "      <td>202</td>\n",
       "      <td>240</td>\n",
       "      <td>317</td>\n",
       "      <td>225</td>\n",
       "      <td>138</td>\n",
       "      <td>48</td>\n",
       "      <td>0</td>\n",
       "      <td>7</td>\n",
       "    </tr>\n",
       "    <tr>\n",
       "      <th>1040</th>\n",
       "      <td>80</td>\n",
       "      <td>102</td>\n",
       "      <td>125</td>\n",
       "      <td>124</td>\n",
       "      <td>104</td>\n",
       "      <td>71</td>\n",
       "      <td>70</td>\n",
       "      <td>36</td>\n",
       "      <td>6</td>\n",
       "      <td>0</td>\n",
       "      <td>6</td>\n",
       "    </tr>\n",
       "    <tr>\n",
       "      <th>1041</th>\n",
       "      <td>268</td>\n",
       "      <td>358</td>\n",
       "      <td>277</td>\n",
       "      <td>415</td>\n",
       "      <td>355</td>\n",
       "      <td>332</td>\n",
       "      <td>215</td>\n",
       "      <td>107</td>\n",
       "      <td>47</td>\n",
       "      <td>7</td>\n",
       "      <td>5</td>\n",
       "    </tr>\n",
       "    <tr>\n",
       "      <th>1042</th>\n",
       "      <td>81</td>\n",
       "      <td>116</td>\n",
       "      <td>90</td>\n",
       "      <td>145</td>\n",
       "      <td>118</td>\n",
       "      <td>113</td>\n",
       "      <td>70</td>\n",
       "      <td>36</td>\n",
       "      <td>9</td>\n",
       "      <td>0</td>\n",
       "      <td>2</td>\n",
       "    </tr>\n",
       "    <tr>\n",
       "      <th>1043</th>\n",
       "      <td>118</td>\n",
       "      <td>156</td>\n",
       "      <td>197</td>\n",
       "      <td>215</td>\n",
       "      <td>114</td>\n",
       "      <td>114</td>\n",
       "      <td>83</td>\n",
       "      <td>19</td>\n",
       "      <td>0</td>\n",
       "      <td>0</td>\n",
       "      <td>5</td>\n",
       "    </tr>\n",
       "  </tbody>\n",
       "</table>\n",
       "<p>1044 rows × 11 columns</p>\n",
       "</div>"
      ],
      "text/plain": [
       "      POS_0_9_CP  POS_10_19_CP  POS_20_29_CP  POS_30_39_CP  POS_40_49_CP  \\\n",
       "0             24            51            44            51            60   \n",
       "1             22            31           214           177            62   \n",
       "2             84           126           239           194           159   \n",
       "3             65            76            80           110            82   \n",
       "4             99           107           339           287           139   \n",
       "...          ...           ...           ...           ...           ...   \n",
       "1039          86           201           206           202           240   \n",
       "1040          80           102           125           124           104   \n",
       "1041         268           358           277           415           355   \n",
       "1042          81           116            90           145           118   \n",
       "1043         118           156           197           215           114   \n",
       "\n",
       "      POS_50_59_CP  POS_60_69_CP  POS_70_79_CP  POS_80_89_CP  POS_90_CP  \\\n",
       "0               75            72            61            27          0   \n",
       "1               46            24             9             0          0   \n",
       "2              171           125            74            24          8   \n",
       "3               81            55            49            56         34   \n",
       "4              147           110            71            37          0   \n",
       "...            ...           ...           ...           ...        ...   \n",
       "1039           317           225           138            48          0   \n",
       "1040            71            70            36             6          0   \n",
       "1041           332           215           107            47          7   \n",
       "1042           113            70            36             9          0   \n",
       "1043           114            83            19             0          0   \n",
       "\n",
       "      DTH_CUM_CP  \n",
       "0              3  \n",
       "1              2  \n",
       "2              9  \n",
       "3              7  \n",
       "4             12  \n",
       "...          ...  \n",
       "1039           7  \n",
       "1040           6  \n",
       "1041           5  \n",
       "1042           2  \n",
       "1043           5  \n",
       "\n",
       "[1044 rows x 11 columns]"
      ]
     },
     "execution_count": 12,
     "metadata": {},
     "output_type": "execute_result"
    }
   ],
   "source": [
    "train_df = pd.read_csv(\"train.csv\")\n",
    "test_df = pd.read_csv(\"test.csv\")\n",
    "train_df"
   ]
  },
  {
   "cell_type": "code",
   "execution_count": 15,
   "id": "a279a0b2-53a2-423c-8c45-4b33abab9fc7",
   "metadata": {
    "tags": []
   },
   "outputs": [],
   "source": [
    "if torch.cuda.is_available():\n",
    "    cuda0 = torch.device('cuda:0')\n",
    "    trainX = torch.from_numpy(train_df.values[:,:-1]).to(torch.float64)\n",
    "    trainY = torch.from_numpy(train_df.values[:,-1:]).to(torch.float64)\n",
    "\n",
    "    testX = torch.from_numpy(test_df.values[:,:-1]).to(torch.float64)\n",
    "    testY = torch.from_numpy(test_df.values[:,-1:]).to(torch.float64)\n",
    "    \n",
    "    trainX=trainX.to('cuda:0')\n",
    "    trainY=trainY.to('cuda:0')\n",
    "    testX=testX.to('cuda:0')\n",
    "    testY=testY.to('cuda:0')\n",
    "    coef = torch.tensor([\n",
    "        [0.0040],\n",
    "        [0.0040],\n",
    "        [0.0040],\n",
    "        [0.0040],\n",
    "        [0.0040],\n",
    "        [0.0040], # POS_50_59_CP\n",
    "        [0.0300], # POS_60_69_CP\n",
    "        [0.0300],\n",
    "        [0.0300],\n",
    "        [0.0300]], dtype=testX.dtype)\n",
    "    coef=coef.to('cuda:0')\n",
    "    (testX[:1,:]@coef).item()\n",
    "else:\n",
    "    trainX = torch.from_numpy(train_df.values[:,:-1]).to(torch.float64)\n",
    "    trainY = torch.from_numpy(train_df.values[:,-1:]).to(torch.float64)\n",
    "\n",
    "    testX = torch.from_numpy(test_df.values[:,:-1]).to(torch.float64)\n",
    "    testY = torch.from_numpy(test_df.values[:,-1:]).to(torch.float64)\n",
    "    coef = torch.tensor([\n",
    "        [0.0040],\n",
    "        [0.0040],\n",
    "        [0.0040],\n",
    "        [0.0040],\n",
    "        [0.0040],\n",
    "        [0.0040], # POS_50_59_CP\n",
    "        [0.0300], # POS_60_69_CP\n",
    "        [0.0300],\n",
    "        [0.0300],\n",
    "        [0.0300]], dtype=testX.dtype)\n",
    "    num_deaths=(testX[:1,:]@coef).item()\n"
   ]
  },
  {
   "cell_type": "code",
   "execution_count": 16,
   "id": "d5c51adb-a060-4d4d-bc11-1e806894c97c",
   "metadata": {
    "tags": []
   },
   "outputs": [
    {
     "data": {
      "text/plain": [
       "9.844"
      ]
     },
     "execution_count": 16,
     "metadata": {},
     "output_type": "execute_result"
    }
   ],
   "source": [
    "num_deaths"
   ]
  },
  {
   "cell_type": "code",
   "execution_count": 132,
   "id": "e38a36d7-fe84-4d89-802d-a70627da0b84",
   "metadata": {},
   "outputs": [],
   "source": [
    "#Part2"
   ]
  },
  {
   "cell_type": "code",
   "execution_count": 144,
   "id": "1f9e1414-9a87-475a-bd9a-f02e3da5474f",
   "metadata": {},
   "outputs": [],
   "source": [
    "predictedY = (testX[:,:]@coef)"
   ]
  },
  {
   "cell_type": "code",
   "execution_count": 145,
   "id": "7ce50ff1-e3d3-4476-b9ce-90b6f01295c8",
   "metadata": {},
   "outputs": [],
   "source": [
    "def r2_score(trueY, predictedY):\n",
    "    SStot = torch.sum((testY-torch.mean(testY))**2)\n",
    "    SSreg = torch.sum((testY-predictedY)**2)\n",
    "    improvement = SStot - SSreg\n",
    "    R2_score = improvement/SStot\n",
    "    return R2_score"
   ]
  },
  {
   "cell_type": "code",
   "execution_count": 146,
   "id": "2fc33df5-7c88-4098-88bf-31ec6318dc8b",
   "metadata": {},
   "outputs": [
    {
     "name": "stdout",
     "output_type": "stream",
     "text": [
      "tensor(0.4110, dtype=torch.float64)\n"
     ]
    }
   ],
   "source": [
    "print(r2_score(testY, predictedY))"
   ]
  },
  {
   "cell_type": "code",
   "execution_count": 136,
   "id": "38f32ab6-e78c-40b9-9635-6480b7a8d18c",
   "metadata": {},
   "outputs": [],
   "source": [
    "#Part3"
   ]
  },
  {
   "cell_type": "code",
   "execution_count": 147,
   "id": "35b980f4-ac7e-47e0-abf0-8990bcacbee8",
   "metadata": {},
   "outputs": [
    {
     "data": {
      "text/plain": [
       "tensor(19.)"
      ]
     },
     "execution_count": 147,
     "metadata": {},
     "output_type": "execute_result"
    }
   ],
   "source": [
    "x = torch.tensor(0.0)\n",
    "y = x**2 - 8*x + 19\n",
    "y\n"
   ]
  },
  {
   "cell_type": "code",
   "execution_count": null,
   "id": "2b68c98e-f875-4c00-852b-132289292fd4",
   "metadata": {},
   "outputs": [],
   "source": []
  }
 ],
 "metadata": {
  "kernelspec": {
   "display_name": "Python 3 (ipykernel)",
   "language": "python",
   "name": "python3"
  },
  "language_info": {
   "codemirror_mode": {
    "name": "ipython",
    "version": 3
   },
   "file_extension": ".py",
   "mimetype": "text/x-python",
   "name": "python",
   "nbconvert_exporter": "python",
   "pygments_lexer": "ipython3",
   "version": "3.10.6"
  }
 },
 "nbformat": 4,
 "nbformat_minor": 5
}
