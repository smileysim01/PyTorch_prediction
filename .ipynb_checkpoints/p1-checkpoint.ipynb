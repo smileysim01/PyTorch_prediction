{
 "cells": [
  {
   "cell_type": "code",
   "execution_count": 219,
   "id": "d8cd14aa-f54d-4103-98d3-1a9166d81bd7",
   "metadata": {
    "tags": []
   },
   "outputs": [],
   "source": [
    "#NETID : rgundavarapu,simran4\n",
    "#emails: rgundavarapu@wisc.edu , simran4@wisc.edu"
   ]
  },
  {
   "cell_type": "markdown",
   "id": "63ff3f55-7736-40ab-ab15-349565d8d5be",
   "metadata": {
    "tags": []
   },
   "source": [
    "## PART 1"
   ]
  },
  {
   "cell_type": "code",
   "execution_count": 220,
   "id": "1cb500f9-fae9-4020-9e45-f63838f33f3d",
   "metadata": {
    "tags": []
   },
   "outputs": [],
   "source": [
    "import pandas as pd\n",
    "import torch\n",
    "import matplotlib.pyplot as plt\n",
    "import time as time\n",
    "import torch\n",
    "import numpy as np\n",
    "np.random.seed(123) ## to get reproducible results"
   ]
  },
  {
   "cell_type": "code",
   "execution_count": 221,
   "id": "862a7523-3dfc-40d6-bab3-3c00a1dba3e9",
   "metadata": {
    "tags": []
   },
   "outputs": [],
   "source": [
    "train_df = pd.read_csv(\"train.csv\")\n",
    "test_df = pd.read_csv(\"test.csv\")"
   ]
  },
  {
   "cell_type": "code",
   "execution_count": 222,
   "id": "a279a0b2-53a2-423c-8c45-4b33abab9fc7",
   "metadata": {
    "tags": []
   },
   "outputs": [],
   "source": [
    "# help cuda device code taken from https://wandb.ai/wandb/common-ml-errors/reports/How-To-Use-GPU-with-PyTorch---VmlldzozMzAxMDk\n",
    "if torch.cuda.is_available():\n",
    "    cuda0 = torch.device('cuda:0') ## move to CUDA device \n",
    "    trainX = torch.from_numpy(train_df.values[:,:-1]).to(torch.float64)\n",
    "    trainY = torch.from_numpy(train_df.values[:,-1:]).to(torch.float64)\n",
    "\n",
    "    testX = torch.from_numpy(test_df.values[:,:-1]).to(torch.float64)\n",
    "    testY = torch.from_numpy(test_df.values[:,-1:]).to(torch.float64)\n",
    "    \n",
    "    trainX=trainX.to('cuda:0')\n",
    "    trainY=trainY.to('cuda:0')\n",
    "    testX=testX.to('cuda:0')\n",
    "    testY=testY.to('cuda:0')\n",
    "    coef = torch.tensor([\n",
    "        [0.0040],\n",
    "        [0.0040],\n",
    "        [0.0040],\n",
    "        [0.0040],\n",
    "        [0.0040],\n",
    "        [0.0040], # POS_50_59_CP\n",
    "        [0.0300], # POS_60_69_CP\n",
    "        [0.0300],\n",
    "        [0.0300],\n",
    "        [0.0300]], dtype=testX.dtype)\n",
    "    coef=coef.to('cuda:0')\n",
    "    num_deaths=(testX[:1,:]@coef).item()\n",
    "else:\n",
    "    trainX = torch.from_numpy(train_df.values[:,:-1]).to(torch.float64)\n",
    "    trainY = torch.from_numpy(train_df.values[:,-1:]).to(torch.float64)\n",
    "\n",
    "    testX = torch.from_numpy(test_df.values[:,:-1]).to(torch.float64)\n",
    "    testY = torch.from_numpy(test_df.values[:,-1:]).to(torch.float64)\n",
    "    coef = torch.tensor([\n",
    "        [0.0040],\n",
    "        [0.0040],\n",
    "        [0.0040],\n",
    "        [0.0040],\n",
    "        [0.0040],\n",
    "        [0.0040], # POS_50_59_CP\n",
    "        [0.0300], # POS_60_69_CP\n",
    "        [0.0300],\n",
    "        [0.0300],\n",
    "        [0.0300]], dtype=testX.dtype)\n",
    "    num_deaths=(testX[:1,:]@coef).item()\n"
   ]
  },
  {
   "cell_type": "code",
   "execution_count": 223,
   "id": "24948548-fbc5-4f18-a532-c51e95855a7a",
   "metadata": {
    "tags": []
   },
   "outputs": [
    {
     "data": {
      "text/plain": [
       "9.844"
      ]
     },
     "execution_count": 223,
     "metadata": {},
     "output_type": "execute_result"
    }
   ],
   "source": [
    "num_deaths"
   ]
  },
  {
   "cell_type": "markdown",
   "id": "43146d4f-ce3e-4a23-a2e7-8ce84262166c",
   "metadata": {
    "tags": []
   },
   "source": [
    "## PART 2"
   ]
  },
  {
   "cell_type": "code",
   "execution_count": 224,
   "id": "1f9e1414-9a87-475a-bd9a-f02e3da5474f",
   "metadata": {
    "tags": []
   },
   "outputs": [],
   "source": [
    "predictedY = (testX[:,:]@coef)"
   ]
  },
  {
   "cell_type": "code",
   "execution_count": 225,
   "id": "7ce50ff1-e3d3-4476-b9ce-90b6f01295c8",
   "metadata": {
    "tags": []
   },
   "outputs": [],
   "source": [
    "def r2_score(trueY, predictedY):\n",
    "    SStot = torch.sum((trueY-torch.mean(trueY))**2)\n",
    "    SSreg = torch.sum((trueY-predictedY)**2)\n",
    "    improvement = SStot - SSreg\n",
    "    R2_score = improvement/SStot\n",
    "    return R2_score"
   ]
  },
  {
   "cell_type": "code",
   "execution_count": 226,
   "id": "2fc33df5-7c88-4098-88bf-31ec6318dc8b",
   "metadata": {
    "tags": []
   },
   "outputs": [
    {
     "name": "stdout",
     "output_type": "stream",
     "text": [
      "tensor(0.4110, dtype=torch.float64)\n"
     ]
    }
   ],
   "source": [
    "print(r2_score(testY, predictedY))"
   ]
  },
  {
   "cell_type": "markdown",
   "id": "32077017-7f85-4dcb-b1f0-2764eada8381",
   "metadata": {
    "tags": []
   },
   "source": [
    "## PART 3"
   ]
  },
  {
   "cell_type": "code",
   "execution_count": 227,
   "id": "35b980f4-ac7e-47e0-abf0-8990bcacbee8",
   "metadata": {
    "tags": []
   },
   "outputs": [],
   "source": [
    "x = torch.tensor(0.0,requires_grad=True)\n",
    "y = x**2 - 8*x + 19\n",
    "optimizer = torch.optim.SGD([x], lr=0.1)"
   ]
  },
  {
   "cell_type": "code",
   "execution_count": 228,
   "id": "615f5f1d-2f59-4c2f-a7bc-ed86bae5e5e2",
   "metadata": {
    "tags": []
   },
   "outputs": [
    {
     "name": "stdout",
     "output_type": "stream",
     "text": [
      "tensor(0.8000, requires_grad=True) tensor(19., grad_fn=<AddBackward0>)\n",
      "tensor(1.4400, requires_grad=True) tensor(13.2400, grad_fn=<AddBackward0>)\n",
      "tensor(1.9520, requires_grad=True) tensor(9.5536, grad_fn=<AddBackward0>)\n",
      "tensor(2.3616, requires_grad=True) tensor(7.1943, grad_fn=<AddBackward0>)\n",
      "tensor(2.6893, requires_grad=True) tensor(5.6844, grad_fn=<AddBackward0>)\n",
      "tensor(2.9514, requires_grad=True) tensor(4.7180, grad_fn=<AddBackward0>)\n",
      "tensor(3.1611, requires_grad=True) tensor(4.0995, grad_fn=<AddBackward0>)\n",
      "tensor(3.3289, requires_grad=True) tensor(3.7037, grad_fn=<AddBackward0>)\n",
      "tensor(3.4631, requires_grad=True) tensor(3.4504, grad_fn=<AddBackward0>)\n",
      "tensor(3.5705, requires_grad=True) tensor(3.2882, grad_fn=<AddBackward0>)\n",
      "tensor(3.6564, requires_grad=True) tensor(3.1845, grad_fn=<AddBackward0>)\n",
      "tensor(3.7251, requires_grad=True) tensor(3.1181, grad_fn=<AddBackward0>)\n",
      "tensor(3.7801, requires_grad=True) tensor(3.0756, grad_fn=<AddBackward0>)\n",
      "tensor(3.8241, requires_grad=True) tensor(3.0484, grad_fn=<AddBackward0>)\n",
      "tensor(3.8593, requires_grad=True) tensor(3.0309, grad_fn=<AddBackward0>)\n",
      "tensor(3.8874, requires_grad=True) tensor(3.0198, grad_fn=<AddBackward0>)\n",
      "tensor(3.9099, requires_grad=True) tensor(3.0127, grad_fn=<AddBackward0>)\n",
      "tensor(3.9279, requires_grad=True) tensor(3.0081, grad_fn=<AddBackward0>)\n",
      "tensor(3.9424, requires_grad=True) tensor(3.0052, grad_fn=<AddBackward0>)\n",
      "tensor(3.9539, requires_grad=True) tensor(3.0033, grad_fn=<AddBackward0>)\n",
      "tensor(3.9631, requires_grad=True) tensor(3.0021, grad_fn=<AddBackward0>)\n",
      "tensor(3.9705, requires_grad=True) tensor(3.0014, grad_fn=<AddBackward0>)\n",
      "tensor(3.9764, requires_grad=True) tensor(3.0009, grad_fn=<AddBackward0>)\n",
      "tensor(3.9811, requires_grad=True) tensor(3.0006, grad_fn=<AddBackward0>)\n",
      "tensor(3.9849, requires_grad=True) tensor(3.0004, grad_fn=<AddBackward0>)\n",
      "tensor(3.9879, requires_grad=True) tensor(3.0002, grad_fn=<AddBackward0>)\n",
      "tensor(3.9903, requires_grad=True) tensor(3.0001, grad_fn=<AddBackward0>)\n",
      "tensor(3.9923, requires_grad=True) tensor(3.0001, grad_fn=<AddBackward0>)\n",
      "tensor(3.9938, requires_grad=True) tensor(3.0001, grad_fn=<AddBackward0>)\n",
      "tensor(3.9950, requires_grad=True) tensor(3.0000, grad_fn=<AddBackward0>)\n"
     ]
    }
   ],
   "source": [
    "x_vals=[]\n",
    "y_vals=[]\n",
    "for i in range(30):\n",
    "    optimizer.zero_grad()\n",
    "    y = x**2 - 8*x + 19\n",
    "    y.backward()\n",
    "    optimizer.step()\n",
    "    print(x, y)\n",
    "    x_vals.append(x.item())\n",
    "    y_vals.append(y.item())"
   ]
  },
  {
   "cell_type": "code",
   "execution_count": 229,
   "id": "e4ed92e1-0c1a-4252-b6f8-4c42cc7a70ed",
   "metadata": {
    "tags": []
   },
   "outputs": [
    {
     "name": "stdout",
     "output_type": "stream",
     "text": [
      "The best x value is 3.9950480461120605\n"
     ]
    }
   ],
   "source": [
    "print('The best x value is',x.item())"
   ]
  },
  {
   "cell_type": "code",
   "execution_count": 230,
   "id": "8225ef16-0f35-445c-b220-f64ad43cf0b7",
   "metadata": {},
   "outputs": [
    {
     "data": {
      "image/png": "[encoded data removed]",
      "text/plain": [
       "<Figure size 640x480 with 1 Axes>"
      ]
     },
     "metadata": {},
     "output_type": "display_data"
    }
   ],
   "source": [
    "plt.plot(x_vals,y_vals)\n",
    "plt.xlabel(\"X\");\n",
    "plt.ylabel(\"Y\");\n",
    "plt.show()\n",
    "#the line plot flattens out at the end, which means that we found the minimum"
   ]
  },
  {
   "cell_type": "markdown",
   "id": "a9992e38-54f7-479b-b1b2-cf07b4897615",
   "metadata": {},
   "source": [
    "## PART 4"
   ]
  },
  {
   "cell_type": "code",
   "execution_count": 231,
   "id": "31f9986b-ba01-46d3-86e8-1d7a4d806fe8",
   "metadata": {
    "tags": []
   },
   "outputs": [
    {
     "name": "stdout",
     "output_type": "stream",
     "text": [
      "Training time is 7.731087684631348  seconds\n",
      "R^2 score is  0.574827670247587\n"
     ]
    }
   ],
   "source": [
    "TD=torch.utils.data.TensorDataset(trainX,trainY)\n",
    "DL=torch.utils.data.DataLoader(TD,shuffle=True,batch_size=400)\n",
    "model = torch.nn.Linear(10, 1,dtype=torch.float64)\n",
    "loss_fn = torch.nn.MSELoss()\n",
    "optimizer = torch.optim.SGD([model.weight, model.bias], lr=0.000003)\n",
    "trstart=time.time()\n",
    "for epoch in range(1000):\n",
    "    for batchx, batchy in DL:\n",
    "        predictedy = model(batchx)\n",
    "        loss = loss_fn(batchy, predictedy)\n",
    "        loss.backward()         \n",
    "        optimizer.step()\n",
    "        optimizer.zero_grad()\n",
    "trend=time.time()\n",
    "print('Training time is',trend-trstart,' seconds')\n",
    "print('R^2 score is ',(r2_score(testY,model(testX))).item())"
   ]
  },
  {
   "cell_type": "code",
   "execution_count": 232,
   "id": "6dce6ba0-f47a-4b86-b245-8c72e0b3cf04",
   "metadata": {
    "tags": []
   },
   "outputs": [
    {
     "data": {
      "text/plain": [
       "Text(0.5, 1.0, 'Coefficients of the model')"
      ]
     },
     "execution_count": 232,
     "metadata": {},
     "output_type": "execute_result"
    },
    {
     "data": {
      "image/png": "[encoded data removed]",
      "text/plain": [
       "<Figure size 640x480 with 1 Axes>"
      ]
     },
     "metadata": {},
     "output_type": "display_data"
    }
   ],
   "source": [
    "model_coefs=model.weight.tolist()[0]\n",
    "plt.xticks(rotation=90)\n",
    "plt.bar(train_df.columns.tolist()[:10],model_coefs)\n",
    "plt.ylabel('Value')\n",
    "plt.title('Coefficients of the model')\n",
    "plt.show()"
   ]
  }
 ],
 "metadata": {
  "kernelspec": {
   "display_name": "Python 3 (ipykernel)",
   "language": "python",
   "name": "python3"
  },
  "language_info": {
   "codemirror_mode": {
    "name": "ipython",
    "version": 3
   },
   "file_extension": ".py",
   "mimetype": "text/x-python",
   "name": "python",
   "nbconvert_exporter": "python",
   "pygments_lexer": "ipython3",
   "version": "3.10.6"
  }
 },
 "nbformat": 4,
 "nbformat_minor": 5
}
